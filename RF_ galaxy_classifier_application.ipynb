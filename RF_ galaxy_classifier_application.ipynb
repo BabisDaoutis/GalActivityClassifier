{
 "cells": [
  {
   "cell_type": "markdown",
   "metadata": {},
   "source": [
    "# A versatile classification tool for galactic activity using optical and infrared colors"
   ]
  },
  {
   "cell_type": "markdown",
   "metadata": {
    "id": "MlATTGWvslKz"
   },
   "source": [
    "This notebook classifies galaxies based on their activity into five classes: star-forming, AGN, LINER, composite, and passive based on the paper \"*A versatile classification tool for galactic activity using optical and\n",
    "infrared colors*\"\n",
    "and is organised into 5 sections (0 to 4) as follows: <br> <br>\n",
    "**Section 0:** Contains all the important Python packages as well as useful functions for the classification process.  <br>\n",
    "**Section 1:** The user loads a catalog of galaxies for classification (fits or csv format). In this section, the user should also define the names of the columns that have the g- and r-band photometry. For the column names of the WISE apertures (_w*gmag_ and _w*mag_2_, where * coresponds to 1,2, and 3 WISE bands) we assume that the names follow the WISE naming convention (see [AllWISE Source Catalog and Reject Table](https://wise2.ipac.caltech.edu/docs/release/allwise/expsup/sec2_1a.html), for a detailed description of the WISE apertures). <br>\n",
    "**Section 2:** Calculation of the hybrid photometric scheme which is based on a combination of the _w*gmag_ and _w*mag_2_ WISE apertures. <br>\n",
    "**Section 3:** Selection of galaxies that satisfies the signal-to-noise criteria set during the definision of the dignostic. Also any galaxy that its photometry has been flagged as unrealiable (for more details see section 2.4 of the paper and the [AllWISE Source Catalog and Reject Table](https://wise2.ipac.caltech.edu/docs/release/allwise/expsup/sec2_1a.html)). <br>\n",
    "**Section 4:** Implementation of the classifier on the clean sample of galaxies. <br> \n",
    "**Section 5:** Exportation of a file containing a column named 'Classification' with the activity class of each galaxy in the catalog provided by the user. For convinience we code the classification output using numbers for each activity class. We also provide the RF-predicted probabilities for every object to belong to each activity class. Below we provide a legend with the meaning of the classification output. <br> <br>\n",
    "**Classification legend** <br>\n",
    "0 - star forming <br>\n",
    "1 - AGN <br>\n",
    "2 - LINER <br>\n",
    "3 - composite <br>\n",
    "4 - passive <br>"
   ]
  },
  {
   "cell_type": "markdown",
   "metadata": {},
   "source": [
    "<hr style=\"border:1px solid black\">"
   ]
  },
  {
   "cell_type": "markdown",
   "metadata": {},
   "source": [
    "##  0 - Imports and functions"
   ]
  },
  {
   "cell_type": "markdown",
   "metadata": {},
   "source": [
    "You don't have to change anything in this section"
   ]
  },
  {
   "cell_type": "code",
   "execution_count": 80,
   "metadata": {
    "colab": {
     "base_uri": "https://localhost:8080/",
     "height": 505
    },
    "executionInfo": {
     "elapsed": 7599,
     "status": "ok",
     "timestamp": 1651734726949,
     "user": {
      "displayName": "Babis Daoutis",
      "userId": "04072883299503145938"
     },
     "user_tz": -180
    },
    "id": "LgSOw9RTslLI",
    "outputId": "d4ca05bd-6505-4749-e918-829b9af30bbe"
   },
   "outputs": [],
   "source": [
    "from sklearn.ensemble import RandomForestClassifier\n",
    "from astropy.io import fits \n",
    "from astropy.table import Table\n",
    "from sklearn import metrics\n",
    "import matplotlib.pyplot as plt\n",
    "import pandas as pd\n",
    "import numpy as np\n",
    "import joblib\n",
    "import csv\n",
    "import os"
   ]
  },
  {
   "cell_type": "code",
   "execution_count": 50,
   "metadata": {},
   "outputs": [],
   "source": [
    "# Function that loads the catalog (file) that contains the galaxies to be classified\n",
    "def load_file(name, file_format):\n",
    "    \"\"\"\n",
    "    Load a file based on the given format.\n",
    "\n",
    "    Parameters:\n",
    "        name (str): The base name of the file (without extension).\n",
    "        file_format (str): The format of the file, either 'csv' or 'fits'.\n",
    "\n",
    "    Returns:\n",
    "        pandas.DataFrame\n",
    "    \"\"\"\n",
    "    if file_format=='csv':\n",
    "        df = pd.read_csv(name+'.csv')\n",
    "    elif file_format=='fits':\n",
    "        dat = Table.read(name+'.fits', format='fits')\n",
    "        df = dat.to_pandas()\n",
    "    return df"
   ]
  },
  {
   "cell_type": "code",
   "execution_count": 51,
   "metadata": {},
   "outputs": [],
   "source": [
    "# Function to save the file with the galaxies containing their activity classification as a separate column\n",
    "def save_cat(df_c, cat_name, cat_format):\n",
    "    \"\"\"\n",
    "    Save a catalog to a file in the specified format.\n",
    "\n",
    "    Parameters:\n",
    "        cat_name (str): The name of the file to be saved (without extension).\n",
    "        cat_format (str): The format in which the catalog should be saved. Supported formats: 'fits' and 'csv'.\n",
    "\n",
    "    Returns:\n",
    "        None\n",
    "    \"\"\"\n",
    "    if (cat_format=='fits'):\n",
    "        new_t = Table.from_pandas(df_c)\n",
    "        new_t.write(cat_name+'.fits')\n",
    "    elif (cat_format=='csv'): \n",
    "        df_c.to_csv(cat_name+'.csv',index=False)\n",
    "    else :\n",
    "        return"
   ]
  },
  {
   "cell_type": "code",
   "execution_count": 52,
   "metadata": {},
   "outputs": [],
   "source": [
    "# Function for cleaning the galaxy sample based on Sginal-to-Noise ratio\n",
    "def SN_clean(dfr, band, Noise, SN):\n",
    "    \"\"\"\n",
    "    Clean the DataFrame of galaxies based on the signal-to-noise (SN) threshold for a specific band.\n",
    "\n",
    "    Parameters:\n",
    "        dfr (pandas.DataFrame): The DataFrame containing galaxy data.\n",
    "        band (str): The name of the band (column) in the DataFrame to be used for cleaning (mags).\n",
    "        Noise (str): The name of the column that contains the measurement error in a band (mags).\n",
    "        SN (float): The signal-to-noise threshold. Galaxies with values below this threshold will be removed.\n",
    "\n",
    "    Returns:\n",
    "        pandas.DataFrame: The cleaned DataFrame containing only galaxies with signal-to-noise greater than SN.\n",
    "        \n",
    "    Example:\n",
    "        SN_clean(df, 'g', 'g_err', 3.0)  # This will remove galaxies with signal-to-noise less than 3.0 in the g-band.\n",
    "    \"\"\"\n",
    "    dfr.reset_index(inplace=True,drop=True)\n",
    "    dfr.loc[:,band+'_SN'] = (1.087)/dfr[Noise].astype(float)\n",
    "    print('Galaxies before cleaning '+band+': ',len(dfr))\n",
    "    dfr = dfr.loc[(dfr.index[np.where((dfr[band+'_SN'] > SN))].tolist())]\n",
    "    print('Galaxies after cleaning ' +band+' :',len(dfr))\n",
    "    return dfr"
   ]
  },
  {
   "cell_type": "code",
   "execution_count": 53,
   "metadata": {},
   "outputs": [],
   "source": [
    "# Function for dropping no detectoions in WISE bands \n",
    "def drop_no_detections(dfr, band_err):\n",
    "    \"\"\"\n",
    "    Drop galaxies from the DataFrame that have no detections or invalid values in the specified 'band_err' column.\n",
    "\n",
    "    Parameters:\n",
    "        dfr (pandas.DataFrame): The DataFrame containing galaxy data.\n",
    "        band_err (str): The name of the column representing the measurement error in the corresponding band.\n",
    "\n",
    "    Returns:\n",
    "        pandas.DataFrame: The DataFrame with galaxies removed based on the error flags.\n",
    "    \"\"\"\n",
    "    dfr.reset_index(inplace=True,drop=True)\n",
    "    print('Galaxies brfore: ',len(dfr))\n",
    "    df_cln = dfr.drop(dfr.index[np.where((dfr[band_err].isna()) | (dfr[band_err]==9.999))].tolist())\n",
    "    print('Galaxies after dropping no detections: ', len(df_cln))\n",
    "    return df_cln"
   ]
  },
  {
   "cell_type": "code",
   "execution_count": 54,
   "metadata": {},
   "outputs": [],
   "source": [
    "# Function for dropping cc_flags in WISE band\n",
    "def drop_cc_flags(dfr):\n",
    "    \"\"\"\n",
    "    Drop galaxies from the DataFrame based on specific values in the 'cc_flags' column.\n",
    "\n",
    "    Parameters:\n",
    "        dfr (pandas.DataFrame): The DataFrame containing galaxy data.\n",
    "\n",
    "    Returns:\n",
    "        pandas.DataFrame: The DataFrame with galaxies removed based on 'cc_flags' values.\n",
    "    \"\"\"\n",
    "    dfr.reset_index(inplace=True,drop=True)\n",
    "    print('Galaxies brfore: ',len(dfr))\n",
    "    df_cln = dfr.loc[(dfr.index[np.where((dfr['cc_flags']=='000D') | (dfr['cc_flags']=='000P') | (dfr['cc_flags']=='0000') | (dfr['cc_flags']=='000O') | (dfr['cc_flags']=='000o') | (dfr['cc_flags']=='000H') | (dfr['cc_flags']=='000h') | (dfr['cc_flags']=='000p') | (dfr['cc_flags']=='000d'))].tolist())]\n",
    "    print('Galaxies after no detections drop: ', len(df_cln))\n",
    "    return df_cln"
   ]
  },
  {
   "cell_type": "code",
   "execution_count": 55,
   "metadata": {},
   "outputs": [],
   "source": [
    "# Function for dropping upper limits in WISE bands\n",
    "def drop_upper(dfr, band_gflag, band_flag):\n",
    "    \"\"\"\n",
    "    Drop galaxies from the DataFrame based on specific conditions related to 'w*gflg' and 'w*flg_2' columns.\n",
    "\n",
    "    Parameters:\n",
    "        dfr (pandas.DataFrame): The DataFrame containing galaxy data.\n",
    "        band_gflag (str): The name of the column representing the galaxy flags for 'w*gflg'.\n",
    "        band_flag (str): The name of the column representing the galaxy flags for 'w*flg_2'.\n",
    "\n",
    "    Returns:\n",
    "        pandas.DataFrame: The DataFrame with galaxies removed based on specific conditions.\n",
    "    \"\"\"\n",
    "    dfr.reset_index(inplace=True,drop=True)\n",
    "    print('Galaxies brfore: ',len(dfr))\n",
    "    df_cln = dfr.loc[(dfr.index[np.where((dfr[band_gflag]!=32) & (dfr[band_flag]!=32))].tolist())]\n",
    "    print('Galaxies after dropping no detections: ', len(df_cln))\n",
    "    return df_cln"
   ]
  },
  {
   "cell_type": "code",
   "execution_count": 56,
   "metadata": {},
   "outputs": [],
   "source": [
    "# Function to calculate the hybrid photometry in WISE bands \n",
    "def calc_hybrid_phot(df, column_name):\n",
    "    df[f\"{column_name}_hyb\"] = df[f\"{column_name}gmag\"].fillna(df[f\"{column_name}mag_2\"])\n",
    "    return df"
   ]
  },
  {
   "cell_type": "code",
   "execution_count": 57,
   "metadata": {},
   "outputs": [],
   "source": [
    "# Function to calculate the error in hybrid photometry in WISE bands \n",
    "def calc_hybrid_phot_error(df, column_name):\n",
    "    df[f\"{column_name}_hyb_err\"] = df[f\"{column_name}gerr\"].fillna(df[f\"{column_name}sigm_2\"])\n",
    "    return df"
   ]
  },
  {
   "cell_type": "code",
   "execution_count": 58,
   "metadata": {},
   "outputs": [],
   "source": [
    "# Function to calculate the colors of hybrid photometry in WISE bands \n",
    "def calc_wise_colors(df, column1, column2):\n",
    "    df[f\"{column1}_hyb-{column2}_hyb\"] = df[f\"{column1}_hyb\"] - df[f\"{column2}_hyb\"]\n",
    "    return df"
   ]
  },
  {
   "cell_type": "markdown",
   "metadata": {},
   "source": [
    "<hr style=\"border:1px solid black\">"
   ]
  },
  {
   "cell_type": "markdown",
   "metadata": {},
   "source": [
    "## 1 - Load catalog and define column names of g- and r-bands"
   ]
  },
  {
   "cell_type": "markdown",
   "metadata": {},
   "source": [
    "Change the path to load your catalog accordingly."
   ]
  },
  {
   "cell_type": "code",
   "execution_count": 59,
   "metadata": {},
   "outputs": [],
   "source": [
    "cat = load_file('your_path/sample_activity_classifier','csv')"
   ]
  },
  {
   "cell_type": "markdown",
   "metadata": {},
   "source": [
    "Change the names of the g- and r-bands with the ones from your dataset in the cell below."
   ]
  },
  {
   "cell_type": "code",
   "execution_count": 60,
   "metadata": {},
   "outputs": [],
   "source": [
    "### Give the column name of the g- and r- band photometry as well as the column name of their corresponding error\n",
    "gband = 'fiberMag_g'\n",
    "rband = 'fiberMag_r'\n",
    "\n",
    "gband_err = 'fiberMagErr_g'\n",
    "rband_err = 'fiberMagErr_r'"
   ]
  },
  {
   "cell_type": "markdown",
   "metadata": {},
   "source": [
    "## 2 - WISE hybrid photomery calculation"
   ]
  },
  {
   "cell_type": "markdown",
   "metadata": {},
   "source": [
    "Below we apply the functions (defined in section 0) to calculate the hybrid WISE photometry (see section 2.2 of the paper)."
   ]
  },
  {
   "cell_type": "code",
   "execution_count": 61,
   "metadata": {},
   "outputs": [],
   "source": [
    "cat = calc_hybrid_phot(cat, 'w1')\n",
    "cat = calc_hybrid_phot(cat, 'w2')\n",
    "cat = calc_hybrid_phot(cat, 'w3')"
   ]
  },
  {
   "cell_type": "code",
   "execution_count": 62,
   "metadata": {},
   "outputs": [],
   "source": [
    "cat = calc_hybrid_phot_error(cat, 'w1')\n",
    "cat = calc_hybrid_phot_error(cat, 'w2')\n",
    "cat = calc_hybrid_phot_error(cat, 'w3')"
   ]
  },
  {
   "cell_type": "code",
   "execution_count": 63,
   "metadata": {},
   "outputs": [],
   "source": [
    "cat = calc_wise_colors(cat, 'w1', 'w2')\n",
    "cat = calc_wise_colors(cat, 'w2', 'w3')\n",
    "cat['g-r'] = cat[gband] - cat[rband]"
   ]
  },
  {
   "cell_type": "markdown",
   "metadata": {},
   "source": [
    "## 3 - Unreliable photometry removal and signal-to-noise cuts"
   ]
  },
  {
   "cell_type": "markdown",
   "metadata": {},
   "source": [
    "Here we clean the sample (see section 2.4 of paper)"
   ]
  },
  {
   "cell_type": "markdown",
   "metadata": {},
   "source": [
    "Signal-to-noise cleaning of the galaxies:"
   ]
  },
  {
   "cell_type": "code",
   "execution_count": 64,
   "metadata": {},
   "outputs": [
    {
     "name": "stdout",
     "output_type": "stream",
     "text": [
      "Galaxies before cleaning w1_hyb:  500\n",
      "Galaxies after cleaning w1_hyb : 500\n",
      "Galaxies before cleaning w2_hyb:  500\n",
      "Galaxies after cleaning w2_hyb : 500\n",
      "Galaxies before cleaning w3_hyb:  500\n",
      "Galaxies after cleaning w3_hyb : 486\n",
      "Galaxies before cleaning fiberMag_g:  486\n",
      "Galaxies after cleaning fiberMag_g : 450\n",
      "Galaxies before cleaning fiberMag_r:  450\n",
      "Galaxies after cleaning fiberMag_r : 450\n"
     ]
    }
   ],
   "source": [
    "cat = SN_clean(cat, 'w1_hyb', 'w1_hyb_err', 5)\n",
    "cat = SN_clean(cat, 'w2_hyb', 'w2_hyb_err', 5)\n",
    "cat = SN_clean(cat, 'w3_hyb', 'w3_hyb_err', 3)\n",
    "\n",
    "cat = SN_clean(cat, gband, gband_err, 5)\n",
    "cat = SN_clean(cat, rband, rband_err, 5)"
   ]
  },
  {
   "cell_type": "markdown",
   "metadata": {},
   "source": [
    "Drop objects with non-detections:"
   ]
  },
  {
   "cell_type": "code",
   "execution_count": 65,
   "metadata": {},
   "outputs": [
    {
     "name": "stdout",
     "output_type": "stream",
     "text": [
      "Galaxies brfore:  450\n",
      "Galaxies after dropping no detections:  450\n",
      "Galaxies brfore:  450\n",
      "Galaxies after dropping no detections:  450\n",
      "Galaxies brfore:  450\n",
      "Galaxies after dropping no detections:  450\n"
     ]
    }
   ],
   "source": [
    "cat = drop_no_detections(cat,'w1_hyb_err')\n",
    "cat = drop_no_detections(cat,'w2_hyb_err')\n",
    "cat = drop_no_detections(cat,'w3_hyb_err')"
   ]
  },
  {
   "cell_type": "markdown",
   "metadata": {},
   "source": [
    "Drop objects with upper limits:"
   ]
  },
  {
   "cell_type": "code",
   "execution_count": 66,
   "metadata": {},
   "outputs": [
    {
     "name": "stdout",
     "output_type": "stream",
     "text": [
      "Galaxies brfore:  450\n",
      "Galaxies after dropping no detections:  450\n",
      "Galaxies brfore:  450\n",
      "Galaxies after dropping no detections:  450\n",
      "Galaxies brfore:  450\n",
      "Galaxies after dropping no detections:  450\n"
     ]
    }
   ],
   "source": [
    "cat = drop_upper(cat, 'w1gflg', 'w1flg_2')\n",
    "cat = drop_upper(cat, 'w2gflg', 'w2flg_2')\n",
    "cat = drop_upper(cat, 'w3gflg', 'w3flg_2')"
   ]
  },
  {
   "cell_type": "markdown",
   "metadata": {},
   "source": [
    "Drop objects with cc_flags:"
   ]
  },
  {
   "cell_type": "code",
   "execution_count": 67,
   "metadata": {},
   "outputs": [
    {
     "name": "stdout",
     "output_type": "stream",
     "text": [
      "Galaxies brfore:  450\n",
      "Galaxies after no detections drop:  429\n"
     ]
    }
   ],
   "source": [
    "cat = drop_cc_flags(cat)"
   ]
  },
  {
   "cell_type": "markdown",
   "metadata": {},
   "source": [
    "Drop objects with null values in any of the features:"
   ]
  },
  {
   "cell_type": "code",
   "execution_count": 68,
   "metadata": {},
   "outputs": [],
   "source": [
    "cat.dropna(subset=['w1_hyb-w2_hyb', 'w2_hyb-w3_hyb', 'g-r'],inplace=True)"
   ]
  },
  {
   "cell_type": "markdown",
   "metadata": {},
   "source": [
    "## 4 - Implementation of the RF"
   ]
  },
  {
   "cell_type": "markdown",
   "metadata": {},
   "source": [
    "Here we apply the RF classifier on the clean sample of galaxies. <br> Change the path to where you have stored the RF model."
   ]
  },
  {
   "cell_type": "code",
   "execution_count": 69,
   "metadata": {},
   "outputs": [
    {
     "name": "stderr",
     "output_type": "stream",
     "text": [
      "C:\\Users\\babis\\anaconda3\\lib\\site-packages\\sklearn\\base.py:439: UserWarning: X does not have valid feature names, but RandomForestClassifier was fitted with feature names\n",
      "  warnings.warn(\n",
      "C:\\Users\\babis\\anaconda3\\lib\\site-packages\\sklearn\\base.py:439: UserWarning: X does not have valid feature names, but RandomForestClassifier was fitted with feature names\n",
      "  warnings.warn(\n"
     ]
    }
   ],
   "source": [
    "# Application of the cassifier on the catalog\n",
    "RF_WISE_classifier = 'your_path/RF_model_W1W2_W2W3_gr_gl.sav'\n",
    "clf = joblib.load(RF_WISE_classifier)\n",
    "\n",
    "cat.loc[:,'Classification'] = clf.predict(cat[['w1_hyb-w2_hyb','w2_hyb-w3_hyb','g-r']].values)\n",
    "cat['Classification'] = cat['Classification'].astype(int)\n",
    "cat[['prob_SFG','prob_AGN','prob_LINER','prob_COMP','prob_Passive']] = clf.predict_proba(cat[['w1_hyb-w2_hyb','w2_hyb-w3_hyb','g-r']].values)"
   ]
  },
  {
   "cell_type": "code",
   "execution_count": 78,
   "metadata": {},
   "outputs": [
    {
     "data": {
      "image/png": "[encoded data removed]",
      "text/plain": [
       "<Figure size 640x480 with 1 Axes>"
      ]
     },
     "metadata": {},
     "output_type": "display_data"
    }
   ],
   "source": [
    "cat['Classification'].replace({0: 'SFG', 1: 'AGN', 2: 'LINER', 3: 'COMPOSITE', 4: 'Passive'},inplace=True)\n",
    "cat['Classification'].hist()\n",
    "plt.xlabel('RF class',fontsize=14)\n",
    "plt.ylabel('Count',fontsize=14)\n",
    "plt.xticks(fontsize=14)\n",
    "plt.yticks(fontsize=14)\n",
    "plt.show()"
   ]
  },
  {
   "cell_type": "markdown",
   "metadata": {},
   "source": [
    "<hr style=\"border:1px solid black\">"
   ]
  },
  {
   "cell_type": "markdown",
   "metadata": {},
   "source": [
    "## 5 - Export catalog with classifications"
   ]
  },
  {
   "cell_type": "markdown",
   "metadata": {},
   "source": [
    "The following cell exports the dataset of the clean galaxies with added columns for the activity class as well as their RF-predicted probabilities of galaxies to a *csv* or *fits* file "
   ]
  },
  {
   "cell_type": "code",
   "execution_count": 71,
   "metadata": {},
   "outputs": [],
   "source": [
    "# save_cat(cat, '/your_path/catalog_name','csv')"
   ]
  }
 ],
 "metadata": {
  "colab": {
   "collapsed_sections": [],
   "name": "PLOTS_5_classes_Random_Forest_z000_008_5_class.ipynb",
   "provenance": [
    {
     "file_id": "11brPa-la8SvCl9JXJb5-vHUjypPwTfva",
     "timestamp": 1651311050544
    },
    {
     "file_id": "1OZjn9Q6nEOFbVe6dNpZNFs9tL4TOMAkd",
     "timestamp": 1649682492424
    },
    {
     "file_id": "1KEP9N7_JIoedB5FqAd5zyBkhaYObeKvO",
     "timestamp": 1646472818162
    },
    {
     "file_id": "1RyBmSuBR6dp3WsIMylfoFuasbYhjYist",
     "timestamp": 1645882505514
    },
    {
     "file_id": "13SVh8zCQC9m5-QRcRLUVikemrKkDNYd3",
     "timestamp": 1645453829744
    },
    {
     "file_id": "1vhT2C21Z56UDrvb6eKV9XEQNai635Dek",
     "timestamp": 1645014951159
    },
    {
     "file_id": "1aCMgiUspa4vJXEcD66kOgwIjUHZ_b5ul",
     "timestamp": 1644606126195
    },
    {
     "file_id": "1UKk_NozqSeWPSxr4o3cwH61vTc08BP0B",
     "timestamp": 1641498040095
    },
    {
     "file_id": "1hdIR6zzfdWkxEsgBTa_uAwQ6U5WcDkX2",
     "timestamp": 1641496338805
    },
    {
     "file_id": "1Gvt49gr-yzXQEkDLpVD7a8_e3A4CXLE8",
     "timestamp": 1641402176132
    },
    {
     "file_id": "1JGiCyZvORYPQZR8oC4HVvfIjLbt33PkY",
     "timestamp": 1641315974657
    },
    {
     "file_id": "1uwYhInxv7JMl5BwgznObS_82B3rfRSsd",
     "timestamp": 1640336382435
    },
    {
     "file_id": "1HGdTpzW1ogShQPLIiWxu_CtMHDskrd_u",
     "timestamp": 1640086215803
    },
    {
     "file_id": "1h5uVEXCtHGyZcm-M5PpqXIo2vdpcpO6F",
     "timestamp": 1639472415991
    },
    {
     "file_id": "1va5_qMOlBr9ZTSg78UoIAMSk41n16tHi",
     "timestamp": 1636655038262
    }
   ]
  },
  "kernelspec": {
   "display_name": "Python 3 (ipykernel)",
   "language": "python",
   "name": "python3"
  },
  "language_info": {
   "codemirror_mode": {
    "name": "ipython",
    "version": 3
   },
   "file_extension": ".py",
   "mimetype": "text/x-python",
   "name": "python",
   "nbconvert_exporter": "python",
   "pygments_lexer": "ipython3",
   "version": "3.10.9"
  }
 },
 "nbformat": 4,
 "nbformat_minor": 1
}
